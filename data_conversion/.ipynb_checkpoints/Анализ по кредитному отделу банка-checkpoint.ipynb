{
 "cells": [
  {
   "cell_type": "markdown",
   "id": "47c3d1d3",
   "metadata": {},
   "source": [
    "### Описание проекта\n",
    "\n",
    "Заказчик — кредитный отдел банка. Нужно разобраться, влияет ли семейное положение и количество детей клиента на факт погашения кредита в срок. Входные данные от банка — статистика о платёжеспособности клиентов.\n",
    "Результаты исследования будут учтены при построении модели кредитного скоринга — специальной системы, которая оценивает способность потенциального заёмщика вернуть кредит банку."
   ]
  },
  {
   "cell_type": "code",
   "execution_count": null,
   "id": "fbbc7bd6",
   "metadata": {},
   "outputs": [],
   "source": [
    "data = pd.read_csv('data.csv')"
   ]
  },
  {
   "cell_type": "markdown",
   "id": "dc29a9a9",
   "metadata": {},
   "source": [
    "### Описание данных\n",
    "\n",
    "children         — количество детей в семье\n",
    "days_employed    — общий трудовой стаж в днях\n",
    "dob_years        — возраст клиента в годах\n",
    "education        — уровень образования клиента\n",
    "education_id     — идентификатор уровня образования\n",
    "family_status    — семейное положение\n",
    "family_status_id — идентификатор семейного положения\n",
    "gender           — пол клиента\n",
    "income_type      — тип занятости\n",
    "debt             — имел ли задолженность по возврату кредитов\n",
    "total_income     — ежемесячный доход\n",
    "purpose          — цель получения кредита\n"
   ]
  },
  {
   "cell_type": "markdown",
   "id": "4726771e",
   "metadata": {},
   "source": [
    "Для просмотра основных и примерных значениях в дата сете выполняем функцию, которая отобразит уникальные значения по всем колонкам"
   ]
  },
  {
   "cell_type": "code",
   "execution_count": null,
   "id": "68fc42bb",
   "metadata": {},
   "outputs": [],
   "source": [
    "print(data.value_counts())"
   ]
  },
  {
   "cell_type": "markdown",
   "id": "a22b62be",
   "metadata": {},
   "source": [
    "### Поиск пропусков\n",
    "\n",
    "Поиск пропусков по столбцам, пропуски замечаны в столбцах: days_employed, total_income"
   ]
  },
  {
   "cell_type": "code",
   "execution_count": null,
   "id": "1c21062e",
   "metadata": {},
   "outputs": [],
   "source": [
    "print(data.isnull().value_counts())"
   ]
  },
  {
   "cell_type": "code",
   "execution_count": null,
   "id": "ad258ac2",
   "metadata": {},
   "outputs": [],
   "source": [
    "children  days_employed  dob_years  education  education_id  family_status  family_status_id  gender  income_type  debt   total_income  purpose\n",
    "False     False          False      False      False         False          False             False   False        False  False         False      19351\n",
    "          True           False      False      False         False          False             False   False        False  True          False       2174"
   ]
  },
  {
   "cell_type": "markdown",
   "id": "60f984c7",
   "metadata": {},
   "source": [
    "### Процент пропусков\n",
    "\n",
    "Поиск процента пропущенных значений\n",
    "\n",
    "Создание функции возвращающая процент значений Nan"
   ]
  },
  {
   "cell_type": "code",
   "execution_count": null,
   "id": "84bf00cb",
   "metadata": {},
   "outputs": [],
   "source": [
    "def skip_percentage(column):\n",
    "    percentage = (column[1] / (column[1] + column[0])) * 100\n",
    "    return f'{column.name}, values: Nan = {int(percentage)}%'"
   ]
  },
  {
   "cell_type": "code",
   "execution_count": null,
   "id": "a476bb55",
   "metadata": {},
   "outputs": [],
   "source": [
    "days_employed, values: Nan = 10%\n",
    "total_income, values: Nan = 10%"
   ]
  },
  {
   "cell_type": "markdown",
   "id": "3afadf29",
   "metadata": {},
   "source": [
    "Не заполненые поля появились на мой взгляд из-за человеческого фактора (пользователь просто забыл завести параметры)"
   ]
  },
  {
   "cell_type": "markdown",
   "id": "a7fb9992",
   "metadata": {},
   "source": [
    "### Исправление пропусков\n",
    "\n",
    "Пропущенные значению нужно заполнить медианным значением, потому что для анализа 10% не заполненых значений приемленно, так же среднее значение подходит из-за того что значение приведено в типе float"
   ]
  },
  {
   "cell_type": "code",
   "execution_count": null,
   "id": "abc695fd",
   "metadata": {},
   "outputs": [],
   "source": [
    "def replacing_passes(column):\n",
    "    # пропущенные значения будут заполнены медианой по колонке\n",
    "    median_value = data[column].median()\n",
    "    data[column] = data[column].fillna(median_value)\n",
    "    # проверка\n",
    "    print(data[column].isnull().value_counts())  \n",
    "    \n",
    "replacing_passes('days_employed')\n",
    "replacing_passes('total_income')"
   ]
  },
  {
   "cell_type": "markdown",
   "id": "92dacfcd",
   "metadata": {},
   "source": [
    "### Избавленоие от артефактов\n",
    "\n",
    "В колонке days_employed встретилось множество артефактов, трудовой стаж в днях имеет отрицательные значение, такого быть не может, предлогаем что минус попал при не правильном заполнение или переносе информации\n",
    "\n",
    "Так как мы не знаем сколько на самом деле дней человек проработал, было принято решение возвести имеющие значения в модуль числа, что бы дни, которые было стали с положительным знаком"
   ]
  },
  {
   "cell_type": "code",
   "execution_count": null,
   "id": "316ee0c7",
   "metadata": {},
   "outputs": [],
   "source": [
    "def fixing_artifacts(column):\n",
    "    # исправление артифактов (избавление от отрицательных дней)\n",
    "    data[column] = abs(data[column])\n",
    "    # проверка\n",
    "    print(data[column].head(15))"
   ]
  },
  {
   "cell_type": "markdown",
   "id": "c70b358f",
   "metadata": {},
   "source": [
    "### Изменение типа колонка \n",
    "\n",
    "Значение прибыли в дата сети используется вещественный тип, для дальнейшей группиризации и просто чистки данных изменим его на целочисленый"
   ]
  },
  {
   "cell_type": "code",
   "execution_count": null,
   "id": "e383d371",
   "metadata": {},
   "outputs": [],
   "source": [
    "def type_replacement(column, new_type, data):\n",
    "    # изменение типа в колонке\n",
    "    try:\n",
    "        return data.astype({column: new_type})\n",
    "    except:\n",
    "        print('Ошибка при изменение типа')"
   ]
  },
  {
   "cell_type": "markdown",
   "id": "540fbf90",
   "metadata": {},
   "source": [
    "### Дубли\n",
    "\n",
    "В дата фрейме были замечены дубли (в колонке education), есть одни и те же значения, но записанные по-разному: с использованием заглавных и строчных букв \n",
    "\n",
    "Причины появлений из-за того что у разных пользователей не было договоренности правил о вводе данных\n",
    "\n",
    "Приведите их к одному регистру"
   ]
  },
  {
   "cell_type": "code",
   "execution_count": null,
   "id": "414751c5",
   "metadata": {},
   "outputs": [],
   "source": [
    "def duplicates_work(column):\n",
    "    # изменение регистра колонки\n",
    "\n",
    "    # до изменения\n",
    "    print(data[column].duplicated().value_counts())\n",
    "\n",
    "    data[column] = data[column].str.lower()\n",
    "    # проверка (после изменения)\n",
    "    print(data[column].duplicated().value_counts())"
   ]
  },
  {
   "cell_type": "markdown",
   "id": "07f1214c",
   "metadata": {},
   "source": [
    "В других колонках дублей замечено не было "
   ]
  },
  {
   "cell_type": "code",
   "execution_count": null,
   "id": "b55bc6c3",
   "metadata": {},
   "outputs": [],
   "source": [
    "print('Проверка остальных столбцов с строками на дубли\"' + DACH * 50)\n",
    "duplicates_work('family_status')\n",
    "duplicates_work('gender')\n",
    "duplicates_work('income_type')\n",
    "duplicates_work('purpose')"
   ]
  },
  {
   "cell_type": "markdown",
   "id": "9bde978d",
   "metadata": {},
   "source": [
    "### Разделение дата фреймов \n",
    "\n",
    "Были замечены колоноки id (education_id, family_status_id) и значения (education, family_status), принято разделить дата фрейм, в основном оставить только поля id"
   ]
  },
  {
   "cell_type": "code",
   "execution_count": null,
   "id": "f17007ee",
   "metadata": {},
   "outputs": [],
   "source": [
    "def new_dataframe(column_id, column):\n",
    "    # создание отдельных дата фреймов\n",
    "    df = pd.DataFrame({column_id: data[column_id], column: data[column]})\n",
    "    return df\n",
    "\n",
    "def drop_column(column):\n",
    "    # удаление колонок\n",
    "    data.drop(columns=[column], axis=1, inplace=True)\n",
    "    return f'Колонка {column} удалена'\n",
    "\n",
    "\n",
    "print('Создание отдельных dataframe\"' + DACH * 50)\n",
    "df_education = new_dataframe('education_id', 'education')\n",
    "print(df_education.head(15))\n",
    "print(drop_column('education'))\n",
    "\n",
    "df_family_status = new_dataframe('family_status_id', 'family_status')\n",
    "print(df_family_status.head(15))\n",
    "print(drop_column('family_status'))\n",
    "\n",
    "print(data.dtypes)"
   ]
  },
  {
   "cell_type": "markdown",
   "id": "62bc6519",
   "metadata": {},
   "source": [
    "### Разделение поля прибыль на категории "
   ]
  },
  {
   "cell_type": "code",
   "execution_count": null,
   "id": "30201b26",
   "metadata": {},
   "outputs": [],
   "source": [
    "def income_categories(value):\n",
    "    # категории по прибыли\n",
    "    if value >= 1000001:\n",
    "       return 'A'\n",
    "    elif 200001 <= value <= 1000000:\n",
    "        return 'B'\n",
    "    elif 50001 <= value <= 200000:\n",
    "        return 'C'\n",
    "    elif 30001 <= value <= 50000:\n",
    "        return 'D'\n",
    "    elif 0 < value <= 30000:\n",
    "        return 'E'\n",
    "    else:\n",
    "        print('Нет подходящей категории для ', value)\n",
    "        \n",
    "        \n",
    "print('Категории по приболи' + DACH * 50)\n",
    "data['total_income_category'] = data['total_income'].apply(income_categories)\n",
    "print(data[['total_income', 'total_income_category']].head(15))"
   ]
  },
  {
   "cell_type": "markdown",
   "id": "22531096",
   "metadata": {},
   "source": [
    "### Разделение поля назначение на категории "
   ]
  },
  {
   "cell_type": "code",
   "execution_count": null,
   "id": "19dcec96",
   "metadata": {},
   "outputs": [],
   "source": [
    "def purpose_categories(value):\n",
    "    # категории по назначению\n",
    "    if 'авто' in value:\n",
    "        return 'операции с автомобилем'\n",
    "    elif 'недвиж' or 'жиль' in value:\n",
    "        return 'операции с недвижимостью'\n",
    "    elif 'свадьб' in value:\n",
    "        return 'проведение свадьбы'\n",
    "    elif 'образов' in value:\n",
    "        return 'получение образования'\n",
    "    else:\n",
    "        print('Нет подходящей категории для ', value)\n",
    "\n",
    "print('Категории по назначению' + DACH * 50)\n",
    "data['purpose_category'] = data['purpose'].apply(purpose_categories)\n",
    "print(data[['purpose', 'purpose_category']].head(15))"
   ]
  },
  {
   "cell_type": "markdown",
   "id": "046543e4",
   "metadata": {},
   "source": [
    "#### Есть ли зависимость между количеством детей и возвратом кредита в срок?\n",
    "\n",
    "Зависимости сильной нет, но "
   ]
  },
  {
   "cell_type": "code",
   "execution_count": null,
   "id": "c513b223",
   "metadata": {},
   "outputs": [],
   "source": [
    "print(data[['children', 'debt']].value_counts())\n",
    "\n",
    "children  debt\n",
    " 0        0       13086\n",
    " 1        0        4374\n",
    " 2        0        1861\n",
    " 0        1        1063\n",
    " 1        1         444\n",
    " 3        0         303\n",
    " 2        1         194\n",
    " 20       0          68\n",
    "-1        0          46\n",
    " 4        0          37\n",
    " 3        1          27\n",
    " 5        0           9\n",
    " 20       1           8\n",
    " 4        1           4\n",
    "-1        1           1"
   ]
  },
  {
   "cell_type": "markdown",
   "id": "2240b236",
   "metadata": {},
   "source": [
    "#### Есть ли зависимость между семейным положением и возвратом кредита в срок?"
   ]
  },
  {
   "cell_type": "code",
   "execution_count": null,
   "id": "4488d704",
   "metadata": {},
   "outputs": [],
   "source": []
  },
  {
   "cell_type": "markdown",
   "id": "75d12945",
   "metadata": {},
   "source": [
    "#### Есть ли зависимость между уровнем дохода и возвратом кредита в срок?"
   ]
  },
  {
   "cell_type": "code",
   "execution_count": null,
   "id": "b888fa49",
   "metadata": {},
   "outputs": [],
   "source": []
  },
  {
   "cell_type": "markdown",
   "id": "637c4190",
   "metadata": {},
   "source": [
    "#### Как разные цели кредита влияют на его возврат в срок?"
   ]
  }
 ],
 "metadata": {
  "kernelspec": {
   "display_name": "Python 3 (ipykernel)",
   "language": "python",
   "name": "python3"
  },
  "language_info": {
   "codemirror_mode": {
    "name": "ipython",
    "version": 3
   },
   "file_extension": ".py",
   "mimetype": "text/x-python",
   "name": "python",
   "nbconvert_exporter": "python",
   "pygments_lexer": "ipython3",
   "version": "3.9.5"
  }
 },
 "nbformat": 4,
 "nbformat_minor": 5
}
