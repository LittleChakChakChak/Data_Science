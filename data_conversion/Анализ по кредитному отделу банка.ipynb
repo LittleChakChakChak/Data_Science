{
 "cells": [
  {
   "cell_type": "markdown",
   "id": "a976bb61",
   "metadata": {},
   "source": [
    "### Описание проекта\n",
    "\n",
    "Заказчик — кредитный отдел банка. Нужно разобраться, влияет ли семейное положение и количество детей клиента на факт погашения кредита в срок. Входные данные от банка — статистика о платёжеспособности клиентов.\n",
    "Результаты исследования будут учтены при построении модели кредитного скоринга — специальной системы, которая оценивает способность потенциального заёмщика вернуть кредит банку."
   ]
  },
  {
   "cell_type": "code",
   "execution_count": null,
   "id": "23be8218",
   "metadata": {},
   "outputs": [],
   "source": [
    "data = pd.read_csv('data.csv')"
   ]
  },
  {
   "cell_type": "markdown",
   "id": "ce57c0f0",
   "metadata": {},
   "source": [
    "### Описание данных\n",
    "\n",
    "children         — количество детей в семье\n",
    "days_employed    — общий трудовой стаж в днях\n",
    "dob_years        — возраст клиента в годах\n",
    "education        — уровень образования клиента\n",
    "education_id     — идентификатор уровня образования\n",
    "family_status    — семейное положение\n",
    "family_status_id — идентификатор семейного положения\n",
    "gender           — пол клиента\n",
    "income_type      — тип занятости\n",
    "debt             — имел ли задолженность по возврату кредитов\n",
    "total_income     — ежемесячный доход\n",
    "purpose          — цель получения кредита\n"
   ]
  },
  {
   "cell_type": "markdown",
   "id": "923c495e",
   "metadata": {},
   "source": [
    "Для просмотра основных и примерных значениях в дата сете выполняем функцию, которая отобразит уникальные значения по всем колонкам"
   ]
  },
  {
   "cell_type": "code",
   "execution_count": null,
   "id": "e2673c90",
   "metadata": {},
   "outputs": [],
   "source": [
    "print(data.value_counts())"
   ]
  },
  {
   "cell_type": "markdown",
   "id": "7fdefee2",
   "metadata": {},
   "source": [
    "Поиск пропусков по столбцам, пропуски замечаны в столбцах: days_employed, total_income"
   ]
  },
  {
   "cell_type": "code",
   "execution_count": null,
   "id": "949f966e",
   "metadata": {},
   "outputs": [],
   "source": [
    "print(data.isnull().value_counts())"
   ]
  },
  {
   "cell_type": "code",
   "execution_count": null,
   "id": "5829fe37",
   "metadata": {},
   "outputs": [],
   "source": [
    "children  days_employed  dob_years  education  education_id  family_status  family_status_id  gender  income_type  debt   total_income  purpose\n",
    "False     False          False      False      False         False          False             False   False        False  False         False      19351\n",
    "          True           False      False      False         False          False             False   False        False  True          False       2174"
   ]
  },
  {
   "cell_type": "markdown",
   "id": "a4ca7001",
   "metadata": {},
   "source": [
    "Поиск процента пропущенных значений\n",
    "\n",
    "Создание функции возвращающая процент значений Nan"
   ]
  },
  {
   "cell_type": "code",
   "execution_count": null,
   "id": "2703d851",
   "metadata": {},
   "outputs": [],
   "source": [
    "def skip_percentage(column):\n",
    "    percentage = (column[1] / (column[1] + column[0])) * 100\n",
    "    return f'{column.name}, values: Nan = {int(percentage)}%'"
   ]
  },
  {
   "cell_type": "code",
   "execution_count": null,
   "id": "468fe114",
   "metadata": {},
   "outputs": [],
   "source": [
    "days_employed, values: Nan = 10%\n",
    "total_income, values: Nan = 10%"
   ]
  },
  {
   "cell_type": "markdown",
   "id": "f2836fe9",
   "metadata": {},
   "source": [
    "Не заполненые поля появились на мой взгляд из-за человеческого фактора (пользователь просто забыл завести параметры)"
   ]
  },
  {
   "cell_type": "markdown",
   "id": "4c69c1c6",
   "metadata": {},
   "source": [
    "Пропущенные значению нужно заполнить медианным значением, потому что для анализа 10% не заполненых значений приемленно, так же среднее значение подходит из-за того что значение приведено в типе float"
   ]
  },
  {
   "cell_type": "code",
   "execution_count": null,
   "id": "d05cb8b4",
   "metadata": {},
   "outputs": [],
   "source": [
    "def replacing_passes(column):\n",
    "    # пропущенные значения будут заполнены медианой по колонке\n",
    "    median_value = data[column].median()\n",
    "    data[column] = data[column].fillna(median_value)\n",
    "    # проверка\n",
    "    print(data[column].isnull().value_counts())  \n",
    "    \n",
    "replacing_passes('days_employed')\n",
    "replacing_passes('total_income')"
   ]
  },
  {
   "cell_type": "markdown",
   "id": "6e3e1c50",
   "metadata": {},
   "source": [
    "В колонке days_employed встретилось множество артефактов, трудовой стаж в днях имеет отрицательные значение? такого быть не может, предлогаем что минус попал при не правильном заполнение или переносе информации\n",
    "\n",
    "Так как мы не знаем сколько на самом деле дней человек проработал, было принято решение возвести имеющие значения в модуль числа, что бы дни, которые было стали с положительным знаком"
   ]
  },
  {
   "cell_type": "code",
   "execution_count": null,
   "id": "3ad697b1",
   "metadata": {},
   "outputs": [],
   "source": [
    "def fixing_artifacts(column):\n",
    "    data[column] = abs(data[column])\n",
    "    # проверка\n",
    "    print(data[column].head(15))\n",
    "    \n",
    "fixing_artifacts('days_employed')"
   ]
  },
  {
   "cell_type": "code",
   "execution_count": null,
   "id": "e22c2697",
   "metadata": {},
   "outputs": [],
   "source": []
  },
  {
   "cell_type": "code",
   "execution_count": null,
   "id": "df0ecb84",
   "metadata": {},
   "outputs": [],
   "source": []
  }
 ],
 "metadata": {
  "kernelspec": {
   "display_name": "Python 3 (ipykernel)",
   "language": "python",
   "name": "python3"
  },
  "language_info": {
   "codemirror_mode": {
    "name": "ipython",
    "version": 3
   },
   "file_extension": ".py",
   "mimetype": "text/x-python",
   "name": "python",
   "nbconvert_exporter": "python",
   "pygments_lexer": "ipython3",
   "version": "3.9.5"
  }
 },
 "nbformat": 4,
 "nbformat_minor": 5
}
