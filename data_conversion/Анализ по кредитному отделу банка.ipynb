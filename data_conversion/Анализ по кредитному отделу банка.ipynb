{
 "cells": [
  {
   "cell_type": "markdown",
   "id": "f42458de",
   "metadata": {},
   "source": [
    "### Описание проекта\n",
    "\n",
    "Заказчик — кредитный отдел банка. Нужно разобраться, влияет ли семейное положение и количество детей клиента на факт погашения кредита в срок. Входные данные от банка — статистика о платёжеспособности клиентов.\n",
    "Результаты исследования будут учтены при построении модели кредитного скоринга — специальной системы, которая оценивает способность потенциального заёмщика вернуть кредит банку."
   ]
  },
  {
   "cell_type": "code",
   "execution_count": null,
   "id": "241262fd",
   "metadata": {},
   "outputs": [],
   "source": [
    "data = pd.read_csv('data.csv')"
   ]
  },
  {
   "cell_type": "markdown",
   "id": "aafacbd2",
   "metadata": {},
   "source": [
    "### Описание данных\n",
    "\n",
    "children         — количество детей в семье\n",
    "days_employed    — общий трудовой стаж в днях\n",
    "dob_years        — возраст клиента в годах\n",
    "education        — уровень образования клиента\n",
    "education_id     — идентификатор уровня образования\n",
    "family_status    — семейное положение\n",
    "family_status_id — идентификатор семейного положения\n",
    "gender           — пол клиента\n",
    "income_type      — тип занятости\n",
    "debt             — имел ли задолженность по возврату кредитов\n",
    "total_income     — ежемесячный доход\n",
    "purpose          — цель получения кредита\n"
   ]
  },
  {
   "cell_type": "markdown",
   "id": "7b780d9c",
   "metadata": {},
   "source": [
    "Для просмотра основных и примерных значениях в дата сете выполняем функцию, которая отобразит уникальные значения по всем колонкам"
   ]
  },
  {
   "cell_type": "code",
   "execution_count": null,
   "id": "e81c239c",
   "metadata": {},
   "outputs": [],
   "source": [
    "print(data.value_counts())"
   ]
  },
  {
   "cell_type": "markdown",
   "id": "06b21aad",
   "metadata": {},
   "source": [
    "### Поиск пропусков\n",
    "\n",
    "Поиск пропусков по столбцам, пропуски замечаны в столбцах: days_employed, total_income"
   ]
  },
  {
   "cell_type": "code",
   "execution_count": null,
   "id": "1df92650",
   "metadata": {},
   "outputs": [],
   "source": [
    "print(data.isnull().value_counts())"
   ]
  },
  {
   "cell_type": "code",
   "execution_count": null,
   "id": "19f6abf5",
   "metadata": {},
   "outputs": [],
   "source": [
    "children  days_employed  dob_years  education  education_id  family_status  family_status_id  gender  income_type  debt   total_income  purpose\n",
    "False     False          False      False      False         False          False             False   False        False  False         False      19351\n",
    "          True           False      False      False         False          False             False   False        False  True          False       2174"
   ]
  },
  {
   "cell_type": "markdown",
   "id": "0ffa504a",
   "metadata": {},
   "source": [
    "### Процент пропусков\n",
    "\n",
    "Поиск процента пропущенных значений\n",
    "\n",
    "Создание функции возвращающая процент значений Nan"
   ]
  },
  {
   "cell_type": "code",
   "execution_count": null,
   "id": "49c8c592",
   "metadata": {},
   "outputs": [],
   "source": [
    "def skip_percentage(column):\n",
    "    percentage = (column[1] / (column[1] + column[0])) * 100\n",
    "    return f'{column.name}, values: Nan = {int(percentage)}%'"
   ]
  },
  {
   "cell_type": "code",
   "execution_count": null,
   "id": "7be72acf",
   "metadata": {},
   "outputs": [],
   "source": [
    "days_employed, values: Nan = 10%\n",
    "total_income, values: Nan = 10%"
   ]
  },
  {
   "cell_type": "markdown",
   "id": "30a19cb7",
   "metadata": {},
   "source": [
    "Не заполненые поля появились на мой взгляд из-за человеческого фактора (пользователь просто забыл завести параметры)"
   ]
  },
  {
   "cell_type": "markdown",
   "id": "4d9e472e",
   "metadata": {},
   "source": [
    "### Исправление пропусков\n",
    "\n",
    "Пропущенные значению нужно заполнить медианным значением, потому что для анализа 10% не заполненых значений приемленно, так же среднее значение подходит из-за того что значение приведено в типе float"
   ]
  },
  {
   "cell_type": "code",
   "execution_count": null,
   "id": "e99cfba8",
   "metadata": {},
   "outputs": [],
   "source": [
    "def replacing_passes(column):\n",
    "    # пропущенные значения будут заполнены медианой по колонке\n",
    "    median_value = data[column].median()\n",
    "    data[column] = data[column].fillna(median_value)\n",
    "    # проверка\n",
    "    print(data[column].isnull().value_counts())  \n",
    "    \n",
    "replacing_passes('days_employed')\n",
    "replacing_passes('total_income')"
   ]
  },
  {
   "cell_type": "markdown",
   "id": "feaeb4ac",
   "metadata": {},
   "source": [
    "### Избавленоие от артефактов\n",
    "\n",
    "В колонке days_employed встретилось множество артефактов, трудовой стаж в днях имеет отрицательные значение, такого быть не может, предлогаем что минус попал при не правильном заполнение или переносе информации\n",
    "\n",
    "Так как мы не знаем сколько на самом деле дней человек проработал, было принято решение возвести имеющие значения в модуль числа, что бы дни, которые было стали с положительным знаком"
   ]
  },
  {
   "cell_type": "code",
   "execution_count": null,
   "id": "e91460cf",
   "metadata": {},
   "outputs": [],
   "source": [
    "def fixing_artifacts(column):\n",
    "    # исправление артифактов (избавление от отрицательных дней)\n",
    "    data[column] = abs(data[column])\n",
    "    # проверка\n",
    "    print(data[column].head(15))"
   ]
  },
  {
   "cell_type": "markdown",
   "id": "ce106270",
   "metadata": {},
   "source": [
    "### Изменение типа колонка \n",
    "\n",
    "Значение прибыли в дата сети используется вещественный тип, для дальнейшей группиризации и просто чистки данных изменим его на целочисленый"
   ]
  },
  {
   "cell_type": "code",
   "execution_count": null,
   "id": "367e9e47",
   "metadata": {},
   "outputs": [],
   "source": [
    "def type_replacement(column, new_type, data):\n",
    "    # изменение типа в колонке\n",
    "    try:\n",
    "        return data.astype({column: new_type})\n",
    "    except:\n",
    "        print('Ошибка при изменение типа')"
   ]
  },
  {
   "cell_type": "markdown",
   "id": "f0398af4",
   "metadata": {},
   "source": [
    "### Дубли\n",
    "\n",
    "В дата фрейме были замечены дубли (в колонке education), есть одни и те же значения, но записанные по-разному: с использованием заглавных и строчных букв \n",
    "\n",
    "Причины появлений из-за того что у разных пользователей не было договоренности правил о вводе данных\n",
    "\n",
    "Приведите их к одному регистру"
   ]
  },
  {
   "cell_type": "code",
   "execution_count": null,
   "id": "af368ca0",
   "metadata": {},
   "outputs": [],
   "source": [
    "def duplicates_work(column):\n",
    "    # изменение регистра колонки\n",
    "\n",
    "    # до изменения\n",
    "    print(data[column].duplicated().value_counts())\n",
    "\n",
    "    data[column] = data[column].str.lower()\n",
    "    # проверка (после изменения)\n",
    "    print(data[column].duplicated().value_counts())"
   ]
  },
  {
   "cell_type": "markdown",
   "id": "ee6a0ac3",
   "metadata": {},
   "source": [
    "В других колонках дублей замечено не было "
   ]
  },
  {
   "cell_type": "code",
   "execution_count": null,
   "id": "3c479303",
   "metadata": {},
   "outputs": [],
   "source": [
    "print('Проверка остальных столбцов с строками на дубли\"' + DACH * 50)\n",
    "duplicates_work('family_status')\n",
    "duplicates_work('gender')\n",
    "duplicates_work('income_type')\n",
    "duplicates_work('purpose')"
   ]
  },
  {
   "cell_type": "markdown",
   "id": "eb7b6a03",
   "metadata": {},
   "source": [
    "### Разделение дата фреймов \n",
    "\n",
    "Были замечены колоноки id (education_id, family_status_id) и значения (education, family_status), принято разделить дата фрейм, в основном оставить только поля id"
   ]
  },
  {
   "cell_type": "code",
   "execution_count": null,
   "id": "041b6477",
   "metadata": {},
   "outputs": [],
   "source": [
    "def new_dataframe(column_id, column):\n",
    "    # создание отдельных дата фреймов\n",
    "    df = pd.DataFrame({column_id: data[column_id], column: data[column]})\n",
    "    return df\n",
    "\n",
    "def drop_column(column):\n",
    "    # удаление колонок\n",
    "    data.drop(columns=[column], axis=1, inplace=True)\n",
    "    return f'Колонка {column} удалена'\n",
    "\n",
    "\n",
    "print('Создание отдельных dataframe\"' + DACH * 50)\n",
    "df_education = new_dataframe('education_id', 'education')\n",
    "print(df_education.head(15))\n",
    "print(drop_column('education'))\n",
    "\n",
    "df_family_status = new_dataframe('family_status_id', 'family_status')\n",
    "print(df_family_status.head(15))\n",
    "print(drop_column('family_status'))\n",
    "\n",
    "print(data.dtypes)"
   ]
  },
  {
   "cell_type": "markdown",
   "id": "8cf1e829",
   "metadata": {},
   "source": [
    "### Разделение поля прибыль на категории "
   ]
  },
  {
   "cell_type": "code",
   "execution_count": null,
   "id": "83f674d0",
   "metadata": {},
   "outputs": [],
   "source": [
    "def income_categories(value):\n",
    "    # категории по прибыли\n",
    "    if value >= 1000001:\n",
    "       return 'A'\n",
    "    elif 200001 <= value <= 1000000:\n",
    "        return 'B'\n",
    "    elif 50001 <= value <= 200000:\n",
    "        return 'C'\n",
    "    elif 30001 <= value <= 50000:\n",
    "        return 'D'\n",
    "    elif 0 < value <= 30000:\n",
    "        return 'E'\n",
    "    else:\n",
    "        print('Нет подходящей категории для ', value)\n",
    "        \n",
    "        \n",
    "print('Категории по приболи' + DACH * 50)\n",
    "data['total_income_category'] = data['total_income'].apply(income_categories)\n",
    "print(data[['total_income', 'total_income_category']].head(15))"
   ]
  },
  {
   "cell_type": "markdown",
   "id": "4a489f18",
   "metadata": {},
   "source": [
    "### Разделение поля назначение на категории "
   ]
  },
  {
   "cell_type": "code",
   "execution_count": null,
   "id": "9e96eda1",
   "metadata": {},
   "outputs": [],
   "source": [
    "def purpose_categories(value):\n",
    "    # категории по назначению\n",
    "    if 'авто' in value:\n",
    "        return 'операции с автомобилем'\n",
    "    elif 'недвиж' or 'жиль' in value:\n",
    "        return 'операции с недвижимостью'\n",
    "    elif 'свадьб' in value:\n",
    "        return 'проведение свадьбы'\n",
    "    elif 'образов' in value:\n",
    "        return 'получение образования'\n",
    "    else:\n",
    "        print('Нет подходящей категории для ', value)\n",
    "\n",
    "print('Категории по назначению' + DACH * 50)\n",
    "data['purpose_category'] = data['purpose'].apply(purpose_categories)\n",
    "print(data[['purpose', 'purpose_category']].head(15))"
   ]
  },
  {
   "cell_type": "markdown",
   "id": "a653ab37",
   "metadata": {},
   "source": [
    "#### Есть ли зависимость между количеством детей и возвратом кредита в срок?\n",
    "\n",
    "Кредиты берут меньше, люди с количеством детей больше 2"
   ]
  },
  {
   "cell_type": "code",
   "execution_count": null,
   "id": "9604a89a",
   "metadata": {},
   "outputs": [],
   "source": [
    "print(data[['children', 'debt']].value_counts())\n",
    "\n",
    "children  debt\n",
    " 0        0       13086\n",
    " 1        0        4374\n",
    " 2        0        1861\n",
    " 0        1        1063\n",
    " 1        1         444\n",
    " 3        0         303\n",
    " 2        1         194\n",
    " 20       0          68\n",
    "-1        0          46\n",
    " 4        0          37\n",
    " 3        1          27\n",
    " 5        0           9\n",
    " 20       1           8\n",
    " 4        1           4\n",
    "-1        1           1"
   ]
  },
  {
   "cell_type": "markdown",
   "id": "2b27f9f3",
   "metadata": {},
   "source": [
    "#### Есть ли зависимость между семейным положением и возвратом кредита в срок?\n",
    "\n",
    "вдовец / вдова меньше других категорий берут кредиты"
   ]
  },
  {
   "cell_type": "code",
   "execution_count": null,
   "id": "6b5ffb92",
   "metadata": {},
   "outputs": [],
   "source": [
    "family_status_id  debt\n",
    "0                 0       11449\n",
    "1                 0        3789\n",
    "4                 0        2539\n",
    "3                 0        1110\n",
    "0                 1         931\n",
    "2                 0         897\n",
    "1                 1         388\n",
    "4                 1         274\n",
    "3                 1          85\n",
    "2                 1          63\n",
    "\n",
    "# --------------------------------\n",
    "\n",
    "family_status_id  family_status        \n",
    "0                 женат / замужем          12380\n",
    "1                 гражданский брак          4177\n",
    "4                 не женат / не замужем     2813\n",
    "3                 в разводе                 1195\n",
    "2                 вдовец / вдова             960"
   ]
  },
  {
   "cell_type": "markdown",
   "id": "afd44008",
   "metadata": {},
   "source": [
    "#### Есть ли зависимость между уровнем дохода и возвратом кредита в срок?\n",
    "\n",
    "Люди заработком больше 1000001 и меньше 50000 берут меньше всего кредитов"
   ]
  },
  {
   "cell_type": "code",
   "execution_count": null,
   "id": "b32926bf",
   "metadata": {},
   "outputs": [],
   "source": [
    "total_income_category  debt\n",
    "C                      0       14727\n",
    "B                      0        4685\n",
    "C                      1        1360\n",
    "B                      1         356\n",
    "D                      0         329\n",
    "A                      0          23\n",
    "D                      1          21\n",
    "E                      0          20\n",
    "A                      1           2\n",
    "E                      1           2\n"
   ]
  },
  {
   "cell_type": "markdown",
   "id": "a744158c",
   "metadata": {},
   "source": [
    "#### Как разные цели кредита влияют на его возврат в срок?\n",
    "\n",
    "Кредиты на автомобиль берут меньше чем на недвижемость"
   ]
  },
  {
   "cell_type": "code",
   "execution_count": null,
   "id": "a65bc332",
   "metadata": {},
   "outputs": [],
   "source": [
    "purpose_category          debt\n",
    "операции с недвижимостью  0       15872\n",
    "операции с автомобилем    0        3912\n",
    "операции с недвижимостью  1        1338\n",
    "операции с автомобилем    1         403"
   ]
  }
 ],
 "metadata": {
  "kernelspec": {
   "display_name": "Python 3 (ipykernel)",
   "language": "python",
   "name": "python3"
  },
  "language_info": {
   "codemirror_mode": {
    "name": "ipython",
    "version": 3
   },
   "file_extension": ".py",
   "mimetype": "text/x-python",
   "name": "python",
   "nbconvert_exporter": "python",
   "pygments_lexer": "ipython3",
   "version": "3.9.5"
  }
 },
 "nbformat": 4,
 "nbformat_minor": 5
}
