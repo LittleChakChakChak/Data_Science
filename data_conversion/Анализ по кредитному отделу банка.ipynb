{
 "cells": [
  {
   "cell_type": "markdown",
   "id": "f007e8a7",
   "metadata": {},
   "source": [
    "### Описание проекта\n",
    "\n",
    "Заказчик — кредитный отдел банка. Нужно разобраться, влияет ли семейное положение и количество детей клиента на факт погашения кредита в срок. Входные данные от банка — статистика о платёжеспособности клиентов.\n",
    "Результаты исследования будут учтены при построении модели кредитного скоринга — специальной системы, которая оценивает способность потенциального заёмщика вернуть кредит банку."
   ]
  },
  {
   "cell_type": "code",
   "execution_count": null,
   "id": "10399357",
   "metadata": {},
   "outputs": [],
   "source": [
    "data = pd.read_csv('data.csv')"
   ]
  },
  {
   "cell_type": "markdown",
   "id": "0f7d4fd4",
   "metadata": {},
   "source": [
    "### Описание данных\n",
    "\n",
    "children         — количество детей в семье\n",
    "days_employed    — общий трудовой стаж в днях\n",
    "dob_years        — возраст клиента в годах\n",
    "education        — уровень образования клиента\n",
    "education_id     — идентификатор уровня образования\n",
    "family_status    — семейное положение\n",
    "family_status_id — идентификатор семейного положения\n",
    "gender           — пол клиента\n",
    "income_type      — тип занятости\n",
    "debt             — имел ли задолженность по возврату кредитов\n",
    "total_income     — ежемесячный доход\n",
    "purpose          — цель получения кредита\n"
   ]
  },
  {
   "cell_type": "markdown",
   "id": "5f152c0a",
   "metadata": {},
   "source": [
    "Для просмотра основных и примерных значениях в дата сете выполняем функцию, которая отобразит уникальные значения по всем колонкам"
   ]
  },
  {
   "cell_type": "code",
   "execution_count": null,
   "id": "56bb8151",
   "metadata": {},
   "outputs": [],
   "source": [
    "print(data.value_counts())"
   ]
  },
  {
   "cell_type": "markdown",
   "id": "4f38e739",
   "metadata": {},
   "source": [
    "Поиск пропусков по столбцам, пропуски замечаны в столбцах: days_employed, total_income"
   ]
  },
  {
   "cell_type": "code",
   "execution_count": null,
   "id": "40801ba9",
   "metadata": {},
   "outputs": [],
   "source": [
    "print(data.isnull().value_counts())"
   ]
  },
  {
   "cell_type": "code",
   "execution_count": null,
   "id": "92075848",
   "metadata": {},
   "outputs": [],
   "source": [
    "children  days_employed  dob_years  education  education_id  family_status  family_status_id  gender  income_type  debt   total_income  purpose\n",
    "False     False          False      False      False         False          False             False   False        False  False         False      19351\n",
    "          True           False      False      False         False          False             False   False        False  True          False       2174"
   ]
  },
  {
   "cell_type": "markdown",
   "id": "b0a7c6d8",
   "metadata": {},
   "source": [
    "Поиск процента пропущенных значений\n",
    "\n",
    "Создание функции возвращающая процент значений Nan"
   ]
  },
  {
   "cell_type": "code",
   "execution_count": null,
   "id": "e508ba2b",
   "metadata": {},
   "outputs": [],
   "source": [
    "def skip_percentage(column):\n",
    "    percentage = (column[1] / (column[1] + column[0])) * 100\n",
    "    return f'{column.name}, values: Nan = {int(percentage)}%'"
   ]
  },
  {
   "cell_type": "code",
   "execution_count": null,
   "id": "86a5d89c",
   "metadata": {},
   "outputs": [],
   "source": [
    "days_employed, values: Nan = 10%\n",
    "total_income, values: Nan = 10%"
   ]
  },
  {
   "cell_type": "markdown",
   "id": "c634aa8a",
   "metadata": {},
   "source": [
    "Не заполненые поля появились на мой взгляд из-за человеческого фактора (пользователь просто забыл завести параметры)"
   ]
  },
  {
   "cell_type": "markdown",
   "id": "8c19b28e",
   "metadata": {},
   "source": [
    "Пропущенные значению нужно заполнить медианным значением, потому что для анализа 10% не заполненых значений приемленно, так же среднее значение подходит из-за того что значение приведено в типе float"
   ]
  },
  {
   "cell_type": "code",
   "execution_count": null,
   "id": "113d4ff4",
   "metadata": {},
   "outputs": [],
   "source": [
    "def replacing_passes(column):\n",
    "    # пропущенные значения будут заполнены медианой по колонке\n",
    "    median_value = data[column].median()\n",
    "    data[column] = data[column].fillna(median_value)\n",
    "    # проверка\n",
    "    print(data[column].isnull().value_counts())"
   ]
  },
  {
   "cell_type": "code",
   "execution_count": null,
   "id": "74e51c07",
   "metadata": {},
   "outputs": [],
   "source": []
  },
  {
   "cell_type": "code",
   "execution_count": null,
   "id": "30d79774",
   "metadata": {},
   "outputs": [],
   "source": []
  }
 ],
 "metadata": {
  "kernelspec": {
   "display_name": "Python 3 (ipykernel)",
   "language": "python",
   "name": "python3"
  },
  "language_info": {
   "codemirror_mode": {
    "name": "ipython",
    "version": 3
   },
   "file_extension": ".py",
   "mimetype": "text/x-python",
   "name": "python",
   "nbconvert_exporter": "python",
   "pygments_lexer": "ipython3",
   "version": "3.9.5"
  }
 },
 "nbformat": 4,
 "nbformat_minor": 5
}
