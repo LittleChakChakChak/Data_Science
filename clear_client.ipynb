{
 "cells": [
  {
   "cell_type": "code",
   "execution_count": 1,
   "id": "b5bb04d6",
   "metadata": {},
   "outputs": [],
   "source": [
    "import pandas as pd\n",
    "import numpy as np\n",
    "import re"
   ]
  },
  {
   "cell_type": "markdown",
   "id": "9182dc94",
   "metadata": {},
   "source": [
    "### Формотирование файлов каждого года для того что бы соединить все в один файл для анализа и машинного обучения (все файлы делаем под один шаблон)"
   ]
  },
  {
   "cell_type": "markdown",
   "id": "b443c1ab",
   "metadata": {},
   "source": [
    "#### Константа для изменения каждого года"
   ]
  },
  {
   "cell_type": "code",
   "execution_count": 2,
   "id": "3874c19c",
   "metadata": {},
   "outputs": [],
   "source": [
    "year = '22-23'"
   ]
  },
  {
   "cell_type": "code",
   "execution_count": 3,
   "id": "e0e34eba",
   "metadata": {},
   "outputs": [
    {
     "ename": "FileNotFoundError",
     "evalue": "[Errno 2] No such file or directory: 'full_files/22-24.xlsx'",
     "output_type": "error",
     "traceback": [
      "\u001b[0;31m---------------------------------------------------------------------------\u001b[0m",
      "\u001b[0;31mFileNotFoundError\u001b[0m                         Traceback (most recent call last)",
      "Cell \u001b[0;32mIn[3], line 1\u001b[0m\n\u001b[0;32m----> 1\u001b[0m df \u001b[38;5;241m=\u001b[39m \u001b[43mpd\u001b[49m\u001b[38;5;241;43m.\u001b[39;49m\u001b[43mread_excel\u001b[49m\u001b[43m(\u001b[49m\u001b[38;5;124;43m'\u001b[39;49m\u001b[38;5;124;43mfull_files/\u001b[39;49m\u001b[38;5;124;43m'\u001b[39;49m\u001b[38;5;241;43m+\u001b[39;49m\u001b[43myear\u001b[49m\u001b[38;5;241;43m+\u001b[39;49m\u001b[38;5;124;43m'\u001b[39;49m\u001b[38;5;124;43m.xlsx\u001b[39;49m\u001b[38;5;124;43m'\u001b[39;49m\u001b[43m)\u001b[49m\n",
      "File \u001b[0;32m~/anaconda3/lib/python3.10/site-packages/pandas/util/_decorators.py:211\u001b[0m, in \u001b[0;36mdeprecate_kwarg.<locals>._deprecate_kwarg.<locals>.wrapper\u001b[0;34m(*args, **kwargs)\u001b[0m\n\u001b[1;32m    209\u001b[0m     \u001b[38;5;28;01melse\u001b[39;00m:\n\u001b[1;32m    210\u001b[0m         kwargs[new_arg_name] \u001b[38;5;241m=\u001b[39m new_arg_value\n\u001b[0;32m--> 211\u001b[0m \u001b[38;5;28;01mreturn\u001b[39;00m \u001b[43mfunc\u001b[49m\u001b[43m(\u001b[49m\u001b[38;5;241;43m*\u001b[39;49m\u001b[43margs\u001b[49m\u001b[43m,\u001b[49m\u001b[43m \u001b[49m\u001b[38;5;241;43m*\u001b[39;49m\u001b[38;5;241;43m*\u001b[39;49m\u001b[43mkwargs\u001b[49m\u001b[43m)\u001b[49m\n",
      "File \u001b[0;32m~/anaconda3/lib/python3.10/site-packages/pandas/util/_decorators.py:331\u001b[0m, in \u001b[0;36mdeprecate_nonkeyword_arguments.<locals>.decorate.<locals>.wrapper\u001b[0;34m(*args, **kwargs)\u001b[0m\n\u001b[1;32m    325\u001b[0m \u001b[38;5;28;01mif\u001b[39;00m \u001b[38;5;28mlen\u001b[39m(args) \u001b[38;5;241m>\u001b[39m num_allow_args:\n\u001b[1;32m    326\u001b[0m     warnings\u001b[38;5;241m.\u001b[39mwarn(\n\u001b[1;32m    327\u001b[0m         msg\u001b[38;5;241m.\u001b[39mformat(arguments\u001b[38;5;241m=\u001b[39m_format_argument_list(allow_args)),\n\u001b[1;32m    328\u001b[0m         \u001b[38;5;167;01mFutureWarning\u001b[39;00m,\n\u001b[1;32m    329\u001b[0m         stacklevel\u001b[38;5;241m=\u001b[39mfind_stack_level(),\n\u001b[1;32m    330\u001b[0m     )\n\u001b[0;32m--> 331\u001b[0m \u001b[38;5;28;01mreturn\u001b[39;00m \u001b[43mfunc\u001b[49m\u001b[43m(\u001b[49m\u001b[38;5;241;43m*\u001b[39;49m\u001b[43margs\u001b[49m\u001b[43m,\u001b[49m\u001b[43m \u001b[49m\u001b[38;5;241;43m*\u001b[39;49m\u001b[38;5;241;43m*\u001b[39;49m\u001b[43mkwargs\u001b[49m\u001b[43m)\u001b[49m\n",
      "File \u001b[0;32m~/anaconda3/lib/python3.10/site-packages/pandas/io/excel/_base.py:482\u001b[0m, in \u001b[0;36mread_excel\u001b[0;34m(io, sheet_name, header, names, index_col, usecols, squeeze, dtype, engine, converters, true_values, false_values, skiprows, nrows, na_values, keep_default_na, na_filter, verbose, parse_dates, date_parser, thousands, decimal, comment, skipfooter, convert_float, mangle_dupe_cols, storage_options)\u001b[0m\n\u001b[1;32m    480\u001b[0m \u001b[38;5;28;01mif\u001b[39;00m \u001b[38;5;129;01mnot\u001b[39;00m \u001b[38;5;28misinstance\u001b[39m(io, ExcelFile):\n\u001b[1;32m    481\u001b[0m     should_close \u001b[38;5;241m=\u001b[39m \u001b[38;5;28;01mTrue\u001b[39;00m\n\u001b[0;32m--> 482\u001b[0m     io \u001b[38;5;241m=\u001b[39m \u001b[43mExcelFile\u001b[49m\u001b[43m(\u001b[49m\u001b[43mio\u001b[49m\u001b[43m,\u001b[49m\u001b[43m \u001b[49m\u001b[43mstorage_options\u001b[49m\u001b[38;5;241;43m=\u001b[39;49m\u001b[43mstorage_options\u001b[49m\u001b[43m,\u001b[49m\u001b[43m \u001b[49m\u001b[43mengine\u001b[49m\u001b[38;5;241;43m=\u001b[39;49m\u001b[43mengine\u001b[49m\u001b[43m)\u001b[49m\n\u001b[1;32m    483\u001b[0m \u001b[38;5;28;01melif\u001b[39;00m engine \u001b[38;5;129;01mand\u001b[39;00m engine \u001b[38;5;241m!=\u001b[39m io\u001b[38;5;241m.\u001b[39mengine:\n\u001b[1;32m    484\u001b[0m     \u001b[38;5;28;01mraise\u001b[39;00m \u001b[38;5;167;01mValueError\u001b[39;00m(\n\u001b[1;32m    485\u001b[0m         \u001b[38;5;124m\"\u001b[39m\u001b[38;5;124mEngine should not be specified when passing \u001b[39m\u001b[38;5;124m\"\u001b[39m\n\u001b[1;32m    486\u001b[0m         \u001b[38;5;124m\"\u001b[39m\u001b[38;5;124man ExcelFile - ExcelFile already has the engine set\u001b[39m\u001b[38;5;124m\"\u001b[39m\n\u001b[1;32m    487\u001b[0m     )\n",
      "File \u001b[0;32m~/anaconda3/lib/python3.10/site-packages/pandas/io/excel/_base.py:1652\u001b[0m, in \u001b[0;36mExcelFile.__init__\u001b[0;34m(self, path_or_buffer, engine, storage_options)\u001b[0m\n\u001b[1;32m   1650\u001b[0m     ext \u001b[38;5;241m=\u001b[39m \u001b[38;5;124m\"\u001b[39m\u001b[38;5;124mxls\u001b[39m\u001b[38;5;124m\"\u001b[39m\n\u001b[1;32m   1651\u001b[0m \u001b[38;5;28;01melse\u001b[39;00m:\n\u001b[0;32m-> 1652\u001b[0m     ext \u001b[38;5;241m=\u001b[39m \u001b[43minspect_excel_format\u001b[49m\u001b[43m(\u001b[49m\n\u001b[1;32m   1653\u001b[0m \u001b[43m        \u001b[49m\u001b[43mcontent_or_path\u001b[49m\u001b[38;5;241;43m=\u001b[39;49m\u001b[43mpath_or_buffer\u001b[49m\u001b[43m,\u001b[49m\u001b[43m \u001b[49m\u001b[43mstorage_options\u001b[49m\u001b[38;5;241;43m=\u001b[39;49m\u001b[43mstorage_options\u001b[49m\n\u001b[1;32m   1654\u001b[0m \u001b[43m    \u001b[49m\u001b[43m)\u001b[49m\n\u001b[1;32m   1655\u001b[0m     \u001b[38;5;28;01mif\u001b[39;00m ext \u001b[38;5;129;01mis\u001b[39;00m \u001b[38;5;28;01mNone\u001b[39;00m:\n\u001b[1;32m   1656\u001b[0m         \u001b[38;5;28;01mraise\u001b[39;00m \u001b[38;5;167;01mValueError\u001b[39;00m(\n\u001b[1;32m   1657\u001b[0m             \u001b[38;5;124m\"\u001b[39m\u001b[38;5;124mExcel file format cannot be determined, you must specify \u001b[39m\u001b[38;5;124m\"\u001b[39m\n\u001b[1;32m   1658\u001b[0m             \u001b[38;5;124m\"\u001b[39m\u001b[38;5;124man engine manually.\u001b[39m\u001b[38;5;124m\"\u001b[39m\n\u001b[1;32m   1659\u001b[0m         )\n",
      "File \u001b[0;32m~/anaconda3/lib/python3.10/site-packages/pandas/io/excel/_base.py:1525\u001b[0m, in \u001b[0;36minspect_excel_format\u001b[0;34m(content_or_path, storage_options)\u001b[0m\n\u001b[1;32m   1522\u001b[0m \u001b[38;5;28;01mif\u001b[39;00m \u001b[38;5;28misinstance\u001b[39m(content_or_path, \u001b[38;5;28mbytes\u001b[39m):\n\u001b[1;32m   1523\u001b[0m     content_or_path \u001b[38;5;241m=\u001b[39m BytesIO(content_or_path)\n\u001b[0;32m-> 1525\u001b[0m \u001b[38;5;28;01mwith\u001b[39;00m \u001b[43mget_handle\u001b[49m\u001b[43m(\u001b[49m\n\u001b[1;32m   1526\u001b[0m \u001b[43m    \u001b[49m\u001b[43mcontent_or_path\u001b[49m\u001b[43m,\u001b[49m\u001b[43m \u001b[49m\u001b[38;5;124;43m\"\u001b[39;49m\u001b[38;5;124;43mrb\u001b[39;49m\u001b[38;5;124;43m\"\u001b[39;49m\u001b[43m,\u001b[49m\u001b[43m \u001b[49m\u001b[43mstorage_options\u001b[49m\u001b[38;5;241;43m=\u001b[39;49m\u001b[43mstorage_options\u001b[49m\u001b[43m,\u001b[49m\u001b[43m \u001b[49m\u001b[43mis_text\u001b[49m\u001b[38;5;241;43m=\u001b[39;49m\u001b[38;5;28;43;01mFalse\u001b[39;49;00m\n\u001b[1;32m   1527\u001b[0m \u001b[43m\u001b[49m\u001b[43m)\u001b[49m \u001b[38;5;28;01mas\u001b[39;00m handle:\n\u001b[1;32m   1528\u001b[0m     stream \u001b[38;5;241m=\u001b[39m handle\u001b[38;5;241m.\u001b[39mhandle\n\u001b[1;32m   1529\u001b[0m     stream\u001b[38;5;241m.\u001b[39mseek(\u001b[38;5;241m0\u001b[39m)\n",
      "File \u001b[0;32m~/anaconda3/lib/python3.10/site-packages/pandas/io/common.py:865\u001b[0m, in \u001b[0;36mget_handle\u001b[0;34m(path_or_buf, mode, encoding, compression, memory_map, is_text, errors, storage_options)\u001b[0m\n\u001b[1;32m    856\u001b[0m         handle \u001b[38;5;241m=\u001b[39m \u001b[38;5;28mopen\u001b[39m(\n\u001b[1;32m    857\u001b[0m             handle,\n\u001b[1;32m    858\u001b[0m             ioargs\u001b[38;5;241m.\u001b[39mmode,\n\u001b[0;32m   (...)\u001b[0m\n\u001b[1;32m    861\u001b[0m             newline\u001b[38;5;241m=\u001b[39m\u001b[38;5;124m\"\u001b[39m\u001b[38;5;124m\"\u001b[39m,\n\u001b[1;32m    862\u001b[0m         )\n\u001b[1;32m    863\u001b[0m     \u001b[38;5;28;01melse\u001b[39;00m:\n\u001b[1;32m    864\u001b[0m         \u001b[38;5;66;03m# Binary mode\u001b[39;00m\n\u001b[0;32m--> 865\u001b[0m         handle \u001b[38;5;241m=\u001b[39m \u001b[38;5;28;43mopen\u001b[39;49m\u001b[43m(\u001b[49m\u001b[43mhandle\u001b[49m\u001b[43m,\u001b[49m\u001b[43m \u001b[49m\u001b[43mioargs\u001b[49m\u001b[38;5;241;43m.\u001b[39;49m\u001b[43mmode\u001b[49m\u001b[43m)\u001b[49m\n\u001b[1;32m    866\u001b[0m     handles\u001b[38;5;241m.\u001b[39mappend(handle)\n\u001b[1;32m    868\u001b[0m \u001b[38;5;66;03m# Convert BytesIO or file objects passed with an encoding\u001b[39;00m\n",
      "\u001b[0;31mFileNotFoundError\u001b[0m: [Errno 2] No such file or directory: 'full_files/22-24.xlsx'"
     ]
    }
   ],
   "source": [
    "df = pd.read_excel('full_files/'+year+'.xlsx')"
   ]
  },
  {
   "cell_type": "markdown",
   "id": "86c48108",
   "metadata": {},
   "source": [
    "#### Для чтения полного df"
   ]
  },
  {
   "cell_type": "code",
   "execution_count": null,
   "id": "a03787dd",
   "metadata": {},
   "outputs": [],
   "source": [
    "pd.set_option('display.max_rows', 700)"
   ]
  },
  {
   "cell_type": "code",
   "execution_count": null,
   "id": "91f9d6bf",
   "metadata": {},
   "outputs": [],
   "source": [
    "# df - просмотр с чем рабоем"
   ]
  },
  {
   "cell_type": "markdown",
   "id": "772ba92d",
   "metadata": {},
   "source": [
    "#### Очистка колонок, название колонок, удаление лишних колонок, удаление первых строк, удаление полностью пустых строк"
   ]
  },
  {
   "cell_type": "code",
   "execution_count": null,
   "id": "20f23632",
   "metadata": {},
   "outputs": [],
   "source": [
    "df = df.iloc[:, 0:14]\n",
    "df.columns = ['id', 'name_user', 'phone', 'city', 'addres', 'kids', 'status', 'source', \n",
    "                          'call', 'estimation', 'note', 'skip', 'old_call', 'old_note']\n",
    "df = df.drop(['estimation', 'skip', 'old_call', 'old_note'], axis=1)\n",
    "df = df[4:]"
   ]
  },
  {
   "cell_type": "code",
   "execution_count": null,
   "id": "6d55bc4e",
   "metadata": {},
   "outputs": [],
   "source": [
    "df = df.drop(['id'], axis=1)\n",
    "df = df.dropna(thresh=2)"
   ]
  },
  {
   "cell_type": "code",
   "execution_count": null,
   "id": "950e6562",
   "metadata": {},
   "outputs": [],
   "source": [
    "# df.head(600) - просмотр с чем рабоем"
   ]
  },
  {
   "cell_type": "markdown",
   "id": "e5400ede",
   "metadata": {},
   "source": [
    "#### Просматривание колонок на уникальное значение и форматирвоание к единому шаблону "
   ]
  },
  {
   "cell_type": "code",
   "execution_count": null,
   "id": "8cab2a98",
   "metadata": {
    "scrolled": false
   },
   "outputs": [],
   "source": [
    "df.city.unique()"
   ]
  },
  {
   "cell_type": "markdown",
   "id": "cdba3c9a",
   "metadata": {},
   "source": [
    "#### Города"
   ]
  },
  {
   "cell_type": "code",
   "execution_count": null,
   "id": "e3de50a0",
   "metadata": {},
   "outputs": [],
   "source": [
    "df['city'] = df['city'].replace(['Старая Купавна ', 'СтараяКупавна', 'Старая купавна '],'Старая Купавна')\n",
    "df['city'] = df['city'].replace(['Новая\\nКупавна','Новая купавна'], 'Новая Купавна')\n",
    "df['city'] = df['city'].replace(['г. Балашиха', 'Балашиха '],'Балашиха')\n",
    "df['city'] = df['city'].replace('монино','Монино')\n",
    "df['city'] = df['city'].replace('Элекктросталь','Электросталь')\n",
    "df['city'] = df['city'].replace(' Кучино','Кучино')\n",
    "df['city'] = df['city'].replace(['Железнодорожный ', 'Железнодорожная '],'Железнодорожный')\n",
    "df['city'] = df['city'].replace('Бисерово ','Бисерово')\n",
    "df['city'] = df['city'].replace('Обухово ','Обухово')\n",
    "df['city'] = df['city'].replace('Кучино, Заря(основной)','Заря')\n",
    "df['city'] = df['city'].replace('! Ногинск, Старая Купавна','Ногинск')\n",
    "df['city'] = df['city'].replace('Шульгино, \\n! Обухово','Шульгино')\n",
    "df['city'] = df['city'].replace('Новое бисерово','Новое Бисерово')\n",
    "df.city.value_counts()"
   ]
  },
  {
   "cell_type": "markdown",
   "id": "d1aaa82e",
   "metadata": {},
   "source": [
    "#### Статус"
   ]
  },
  {
   "cell_type": "code",
   "execution_count": null,
   "id": "70fb37dc",
   "metadata": {},
   "outputs": [],
   "source": [
    "df.status.unique()"
   ]
  },
  {
   "cell_type": "code",
   "execution_count": null,
   "id": "d3f4914d",
   "metadata": {},
   "outputs": [],
   "source": [
    "df['status'] = df['status'].replace(['Новый ', 'новый', 'Новая ', 'Новывй'],'Новый')\n",
    "df['status'] = df['status'].replace(['Постоянный ','постоянный','Поятоянный'], 'Постоянный')\n",
    "df.status.value_counts()"
   ]
  },
  {
   "cell_type": "markdown",
   "id": "6f789b64",
   "metadata": {},
   "source": [
    "#### Источник"
   ]
  },
  {
   "cell_type": "code",
   "execution_count": null,
   "id": "c31b67ff",
   "metadata": {},
   "outputs": [],
   "source": [
    "df.source.unique()"
   ]
  },
  {
   "cell_type": "code",
   "execution_count": null,
   "id": "b00a7fc3",
   "metadata": {},
   "outputs": [],
   "source": [
    "df['source'] = df['source'].replace([' интернет', 'интернет','Интерент'],'Интернет')\n",
    "df['source'] = df['source'].replace(['Группа ВК','вконтакте','В контакте','Вконтакте, заказала родитель','Контакт', 'вк', 'ВК'], 'Вконтакте')\n",
    "df['source'] = df['source'].replace(['в сад приходил Олег','Знакомые Лизы','знакомые','Лена','Лиза', 'Дима', 'Тамара'],'Знакомые')\n",
    "df['source'] = df['source'].replace(['Инстаграм','инстаграм','инстаграмм'],'Инстаграмм')\n",
    "df['source'] = df['source'].replace(['Рекомендации','рекомндация','Подруга Алена5','Сосед Екатерина22','рекоминдация','рекомендация','Садик'],'Рекомендация')\n",
    "df['source'] = df['source'].replace('авито','Авито')\n",
    "df['source'] = df['source'].replace(['Выиграла в конкурсе','Конкурс вк', '1место '],'Конкурс')\n",
    "df['source'] = df['source'].replace('Визитки','Визитка')\n",
    "df['source'] = df['source'].replace('Авто','Машина')\n",
    "df['source'] = df['source'].replace(['Подъезд','Стенд'],'Листовки')\n",
    "df['source'] = df['source'].replace('Новый',np.nan)\n",
    "df.source.value_counts()"
   ]
  },
  {
   "cell_type": "markdown",
   "id": "9db279c0",
   "metadata": {},
   "source": [
    "### Звонок"
   ]
  },
  {
   "cell_type": "code",
   "execution_count": null,
   "id": "756210b1",
   "metadata": {},
   "outputs": [],
   "source": [
    "df.call.unique()"
   ]
  },
  {
   "cell_type": "code",
   "execution_count": null,
   "id": "480ea695",
   "metadata": {},
   "outputs": [],
   "source": [
    "df['call'] = df['call'].replace(['уежаю ', 'уезжают','уехали','бдут праздновать в дурго месте',\n",
    "                                               'уезжает','Уезжаюь','Уезжайт', 'в этом году уезжают','Уезжают.',\n",
    "                                               'Идут в гости.', 'Скорее всего уедут','Уезжают в этом году',\n",
    "                                               'уезжют','Празднует с Алена5','заказали всместе с соседями'],\n",
    "                                              'Уезжают')\n",
    "\n",
    "df['call'] = df['call'].replace(['Заказала','заказала','заказал','закала','Заказал ','Заказала ',\n",
    "                                               'Зкаазала', 'Закзал', 'заказали', 'Заказла', 'Заказл', \n",
    "                                               'Заказала вместе с Греховой', 'Просто вручить подарок, если будем рядом.', \n",
    "                                               'Объединилась с Дмитрием','Заказала. Очень не понравилось. Обещала скидку',\n",
    "                                               'Заказала. Сказала, что быстро все прошло.', 'В кафе будет Дед',\n",
    "                                               'Закзала','Записала'], \n",
    "                                              'Заказал')\n",
    "\n",
    "df['call'] = df['call'].replace(['занято','не ответил','не отвечает','не доступен','не ответила',\n",
    "                                               'анято','автоотвечик','сбросила','Занята','скинула', \n",
    "                                               'Абон. Не доступен ', 'Не взяли трубку', 'не взяла трубку', \n",
    "                                               'Не доступен','Аппарат выключен', 'абонент временно не доступен', \n",
    "                                               'Абонент недоступен','Не дозвонилась', 'аппарат выключен',\n",
    "                                               'Не дозвонился', 'не дозвонился','не доступна','попробывать ещё раз позвонить',\n",
    "                                               'Не взяла трубку','Сбросила','просила перезвонить, не взяла трубку Д',\n",
    "                                               'занят','не дозвнился','просила перезвонить, не взяла Д',\n",
    "                                               'Сбросил','не дозвонилась','автоответчик'],\n",
    "                                              'Занято')\n",
    "\n",
    "df['call'] = df['call'].replace(['думают','уточнит','думает','Думает','пока не думали','Думает ',\n",
    "                                               'Напишет','Если что перезвонит','Перезвонит','Ответит 14 числа',\n",
    "                                               'Отпишется если что ','Скинул цены','Пока не знаем ', 'перезвонит',\n",
    "                                               'Звонил','пока не знают, уежают или нет', 'позвонил', \n",
    "                                               'пока не определились с датой, должны позвонить, не очень понравились актеры в 2016 году, думаю направить железку туда', \n",
    "                                               'Звонила', 'позвонил Наталье','Перезвонить 5 декабря', \n",
    "                                               'Перезвонить 10 декабря', 'Перезвонить вечером 4 декабря',\n",
    "                                               'Перезвонит сама', 'Перезвонить 20 декабря ', 'Позвонить 28 ноября',\n",
    "                                               'Подумает', 'Думает на счет дня','позвонят','Подумает, перезвонит сама',\n",
    "                                               'Звонили Маргарите','звонок','Обсудит с мужем ','Позвонит завтра 9дек',\n",
    "                                               'подумает Д','подумают Д','Сам перезвонит',\n",
    "                                               'Обещал скидку 200 рублей, позвонить в пн','позвонят ',\n",
    "                                               'Звонок','обсудит с супругой'],\n",
    "                                              'Думают')\n",
    "\n",
    "df['call'] = df['call'].replace(['заказали у других','ушли к конкурентам','Заказала других', \n",
    "                                               'Не понравилось. Заказали у других.', 'Заказали в другом месте',\n",
    "                                               'Заказала в другом месте','заказала у других',\n",
    "                                               'Снеачала заказала, а потом отменила','Заказала у других',\n",
    "                                               'Заказывают у других','учавствуют в другом заказе'],\n",
    "                                              'Ушли к конкурентам')\n",
    "\n",
    "df['call'] = df['call'].replace(['номер не але','номер не обслуживается','Абонент в сети не зарегистрирован', \n",
    "                                               'номер не используется','Сменили номер', 'Номер не используется',\n",
    "                                               'Номер временно заблокирован', 'номер не существует',\n",
    "                                               'данный вид связи не доступен для абонента',\n",
    "                                               'Обслуживание преостановлено'],\n",
    "                                              'Номер заблокирован')\n",
    "\n",
    "df['call'] = df['call'].replace(['Отменила','Передумала ','отказалась', 'Отказ', 'Отказалась', \n",
    "                                               'отказ', 'Отмена','Сначала заказала, потом отказалась. Позвонить в следующем году.  ', \n",
    "                                               'Отменила по семеным обстоятельствам',\n",
    "                                               'Сначала заказал, потом отказался', 'Заказала, потом отказалась', \n",
    "                                               'Отмена. Сначала заказала, потом отказалась.', \n",
    "                                               'Сначала заказала, потом отказалась', \n",
    "                                               'Сначала заказала, потом отказался', 'Хочет Анжелу'],\n",
    "                                              'Отменил')\n",
    "\n",
    "df['call'] = df['call'].replace(['переехали','Переехали в Таганрог','Переехали в Москву',\n",
    "                                               'Перехали в Москву','Переехали в другой город', \n",
    "                                               'Переехали в Москву, можно позвонить', 'Переехали.', 'переехали',\n",
    "                                               'Переехали в Москву, но возможно приедут и тогда закажут',\n",
    "                                               'переехали '],\n",
    "                                              'Переехали')\n",
    "\n",
    "df['call'] = df['call'].replace(['дети не хотят','Дети не хотят','выросли','вырос','выросли ',\n",
    "                                               'Вырочли дети','Вырос ребенок', 'выросли дети', \n",
    "                                               'Не будут из-за ковида и выросли дети', 'Дети выросли', \n",
    "                                               'Вырасли дети', 'дети выросли', 'вырос ребенок', \n",
    "                                               'Николай вырос, софья заказала', 'ребенок вырок','Дети выросли.',\n",
    "                                               'Больше не будут заказывать, выросли','Дети  выросли',\n",
    "                                               'Дети выросли. Наша Снегурочка.', 'Скорее всего не будут. Выросли',\n",
    "                                              ],\n",
    "                                              'Выросли дети')\n",
    "\n",
    "df['call'] = df['call'].replace(['не планируют','не будут','не будут в этом году','не получается',\n",
    "                                               'пригласили на елки','финансы','сегодня','на', '!',\n",
    "                                               'не будут заказывать','-','не будут ','не ответили','написал', \n",
    "                                               'написал', 'не будут ', 'сама играет снегурочку','Не Заказал ',\n",
    "                                               'Не ответила ', 'Не отвечает ','Не ответил', 'Уже провели ярмарку',\n",
    "                                               'Не ответила','не стал звонить','Не отвечает','Не интересует',\n",
    "                                               'Не нужно', 'не решились', 'не будет заказывать', \n",
    "                                               'Не взяли трубку, отвечает автоответчик','абонент не доступен', \n",
    "                                               'абонент не доступен ', 'не будет в этом году заказывать', \n",
    "                                               'не будет в этом году заказывать','не будут заказывать в этом году',\n",
    "                                               'в этом году не будут заказывать', 'звонили', 'звонила', 'Позвонил',\n",
    "                                               'Не взяли трубку 2 раза','Не будут заказывать', 'Звонили', \n",
    "                                               'позвонила сама',  'Позвонила', 'позвонила ', \n",
    "                                               'Позвонила нам, если надумает, то закажет на 31 число, цены старой купавны +300 р', \n",
    "                                               'звонил', 'Не будет заказывать','На следующий год закажет', \n",
    "                                               'Не будет заказывать. Испугаляс ребенок', 'нет','не надо',\n",
    "                                               'В этом году не будут','не планирует, если передумает. То позвонит',\n",
    "                                               'второй ребенок маленький, боятся','Закажут в следущем году',\n",
    "                                               'не планируют, но если передумает то позвонит','Не будет',\n",
    "                                               'в этом году нет','Пока не планирует','Не планируют',\n",
    "                                               'Виктория попросила цены, виктора не интересует Д',\n",
    "                                               'не надо ', 'не будет','В следующем году будут заказывать',\n",
    "                                               'елена не ответила, татьяна не будет','в следующем году',\n",
    "                                               'дубль евгения6','не будут, не понравился дед мороз',\n",
    "                                               'лучше не ехать','?','в следующем году будут',\n",
    "                                               'не будут в этом году (ремонт)','для нас далеко',\n",
    "                                               'Не будут в этом году ','заболели'],\n",
    "                                              'Не будут(в этом году)')\n",
    "\n",
    "df['call'] = df['call'].replace(['не звонил',' '], np.nan)\n",
    "\n",
    "df['call'] = df['call'].replace(['дубльАнна30','Татьяна44','дубль с юлией 33',\n",
    "                                               'Заказала Ольга58'], \n",
    "                                              'Дубль')\n",
    "\n",
    "# df['call'] = df['call'].replace('заболели','Заболели')\n",
    "df.call.unique()"
   ]
  },
  {
   "cell_type": "code",
   "execution_count": null,
   "id": "1858d4cc",
   "metadata": {},
   "outputs": [],
   "source": [
    "df.call.value_counts()"
   ]
  },
  {
   "cell_type": "markdown",
   "id": "1806deb1",
   "metadata": {},
   "source": [
    "### Примечания - работать с ним не будем, потому что потом его не будем использовать"
   ]
  },
  {
   "cell_type": "code",
   "execution_count": null,
   "id": "212c23d8",
   "metadata": {},
   "outputs": [],
   "source": [
    "df.note.unique()"
   ]
  },
  {
   "cell_type": "markdown",
   "id": "7f0379db",
   "metadata": {},
   "source": [
    "### Проверка на повторение id"
   ]
  },
  {
   "cell_type": "raw",
   "id": "7064a812",
   "metadata": {},
   "source": [
    "df.id.value_counts().loc[lambda x : x > 1]"
   ]
  },
  {
   "cell_type": "raw",
   "id": "672c0544",
   "metadata": {},
   "source": [
    "len(df.id.value_counts().loc[lambda x : x > 1])"
   ]
  },
  {
   "cell_type": "markdown",
   "id": "3c8aa6a5",
   "metadata": {},
   "source": [
    "### Пока не трогаю id, стоит заняться в самом конце"
   ]
  },
  {
   "cell_type": "markdown",
   "id": "08b8a2e9",
   "metadata": {},
   "source": [
    "## Разделение колонки с телефона и форматирование под единоую форму "
   ]
  },
  {
   "cell_type": "code",
   "execution_count": null,
   "id": "24095a41",
   "metadata": {},
   "outputs": [],
   "source": [
    "# df['phone'] - секретная информация)))"
   ]
  },
  {
   "cell_type": "markdown",
   "id": "612a8ed9",
   "metadata": {},
   "source": [
    "### Чистка номера от мусора и подготовка номера к разделению"
   ]
  },
  {
   "cell_type": "code",
   "execution_count": null,
   "id": "c48adb6f",
   "metadata": {},
   "outputs": [],
   "source": [
    "df['phone'] = df['phone'].astype(str)\n",
    "df['phone'] = df['phone'].str.replace('*-***-***-**-**','***********', regex=True)\n",
    "df['phone'] = df['phone'].str.replace('*-***-**-**-**','***********', regex=True)\n",
    "df['phone'] = df['phone'].str.replace(';','', regex=True)\n",
    "df['phone'] = df['phone'].str.replace(',','', regex=True)\n",
    "df['phone'] = df['phone'].str.replace(')','', regex=True)\n",
    "df['phone'] = df['phone'].str.replace('(','', regex=True)\n",
    "df['phone'] = df['phone'].str.replace('!','', regex=True)\n",
    "df['phone'] = df['phone'].str.replace('-','', regex=True)\n",
    "df['phone'] = df['phone'].str.replace(' ','', regex=True)\n",
    "df['phone'] = df['phone'].str.replace('  ','', regex=True)\n",
    "df['phone'] = df['phone'].str.replace('\\n','', regex=True)\n",
    "df['phone'] = df['phone'].str.replace(\"'\",'', regex=True)\n",
    "df['phone'] = df['phone'].str.replace('‑','', regex=True)\n",
    "df['phone'] = df['phone'].str.replace('-','', regex=True)\n",
    "df['phone'] = df['phone'].str.replace('+','', regex=True)\n",
    "df['phone'] = df['phone'].str.replace('-','', regex=True)\n",
    "df['phone'] = df['phone'].str.replace('--','', regex=True)\n",
    "df['phone'] = df['phone'].str.replace('дом','', regex=True)\n",
    "df['phone'] = df['phone'].str.replace('Камил','', regex=True)\n",
    "df['phone'] = df['phone'].str.replace('Андрей','', regex=True)\n",
    "df['phone'] = df['phone'].str.replace('Радмила','', regex=True)\n",
    "df['phone'] = df['phone'].str.replace('\\u202a','', regex=True)\n",
    "df['phone'] = df['phone'].str.replace('\\xa0','', regex=True)\n",
    "df['phone'] = df['phone'].str.replace('\\u202c','', regex=True)"
   ]
  },
  {
   "cell_type": "markdown",
   "id": "a808d3a8",
   "metadata": {},
   "source": [
    "### Разделение номеров"
   ]
  },
  {
   "cell_type": "code",
   "execution_count": null,
   "id": "200a1292",
   "metadata": {},
   "outputs": [],
   "source": [
    "phone = []\n",
    "for row in df['phone']:\n",
    "    if not pd.isnull(row) and not row == 'nan':\n",
    "        if len(row) == 11:\n",
    "            row = row + ',0,0'\n",
    "        elif len(row) == 22:\n",
    "            row = row[:11] + ',' + row[11:] + ',0'\n",
    "        else:\n",
    "            row = row[:11] + ',' + row[11:22] + ',' + row[22:]\n",
    "    else:\n",
    "        row = '0,0,0'\n",
    "    phone.append(row)\n",
    "df['phone'] = phone"
   ]
  },
  {
   "cell_type": "code",
   "execution_count": null,
   "id": "ea5192c0",
   "metadata": {},
   "outputs": [],
   "source": [
    "df[['phone_1','phone_2']] = df['phone'].str.split(',',n=1,expand=True)\n",
    "df[['phone_2','phone_3']] = df['phone_2'].str.split(',',n=1,expand=True)"
   ]
  },
  {
   "cell_type": "code",
   "execution_count": null,
   "id": "c94a4092",
   "metadata": {},
   "outputs": [],
   "source": [
    "# df - просмотр с чем рабоем"
   ]
  },
  {
   "cell_type": "markdown",
   "id": "8ec86178",
   "metadata": {},
   "source": [
    "### Изменение первого символа в номере"
   ]
  },
  {
   "cell_type": "code",
   "execution_count": null,
   "id": "e80d1ac6",
   "metadata": {},
   "outputs": [],
   "source": [
    "def format_phone(df):\n",
    "    phone = []\n",
    "    for row in df:\n",
    "        if row != '0':\n",
    "            final_str = '8' + row[1:]\n",
    "            phone.append(final_str)\n",
    "        else:\n",
    "            phone.append(np.nan)\n",
    "    return phone\n",
    "\n",
    "df['phone_1'] = format_phone(df['phone_1'])\n",
    "df['phone_2'] = format_phone(df['phone_2'])\n",
    "df['phone_3'] = format_phone(df['phone_3'])"
   ]
  },
  {
   "cell_type": "code",
   "execution_count": null,
   "id": "9a7e71e4",
   "metadata": {},
   "outputs": [],
   "source": [
    "# df - просмотр с чем рабоем"
   ]
  },
  {
   "cell_type": "markdown",
   "id": "23cd751c",
   "metadata": {},
   "source": [
    "### Проверка на правильность номеров по длине  "
   ]
  },
  {
   "cell_type": "code",
   "execution_count": null,
   "id": "70cd8c15",
   "metadata": {},
   "outputs": [],
   "source": [
    "result = []\n",
    "def chek_phone(df):\n",
    "    for row in df:\n",
    "        if not pd.isnull(row):\n",
    "             if len(row) != 11:\n",
    "                result.append(row)\n",
    "    if len(result) > 0:\n",
    "        print(f'{len(result)} - {result}')\n",
    "    else:\n",
    "        print(f'{df.name} - не найдено некорректных номеров')\n",
    "    \n",
    "chek_phone(df['phone_1'])\n",
    "chek_phone(df['phone_2'])\n",
    "chek_phone(df['phone_3'])"
   ]
  },
  {
   "cell_type": "markdown",
   "id": "e7658e97",
   "metadata": {},
   "source": [
    "### Проверка на ошибка заполнения начала телефона"
   ]
  },
  {
   "cell_type": "code",
   "execution_count": null,
   "id": "87c926f5",
   "metadata": {},
   "outputs": [],
   "source": [
    "df.loc[df['phone_1'] == '8an']"
   ]
  },
  {
   "cell_type": "markdown",
   "id": "1c865eed",
   "metadata": {},
   "source": [
    "## Разделение пользователей"
   ]
  },
  {
   "cell_type": "code",
   "execution_count": null,
   "id": "e7a51074",
   "metadata": {},
   "outputs": [],
   "source": [
    "df['name_user']"
   ]
  },
  {
   "cell_type": "code",
   "execution_count": null,
   "id": "2fb2ab62",
   "metadata": {},
   "outputs": [],
   "source": [
    "for row in df['name_user']:\n",
    "    if not pd.isna(row):\n",
    "        for i in range(len(row)):\n",
    "            if row[i] == '\\n' and row[i-1] != ',':\n",
    "                print(row + '\\n')\n",
    "            elif row[i] == ' ' and row[i-1] != ',':\n",
    "                print(row + '\\n')"
   ]
  },
  {
   "cell_type": "code",
   "execution_count": null,
   "id": "ce21e707",
   "metadata": {},
   "outputs": [],
   "source": [
    "df['name_user'] = df['name_user'].str.replace('Светлана9\\n! муж Алексей','Светлана,Алексей')\n",
    "df['name_user'] = df['name_user'].str.replace('Олеся10  Елена36','Олеся,Елена')\n",
    "df['name_user'] = df['name_user'].str.replace('! Вера5\\nАнна13 Надежда8','Вера,Анна,Надежда')\n",
    "df['name_user'] = df['name_user'].replace('Анна9   (подруга Вики)','Анна')\n",
    "df['name_user'] = df['name_user'].replace('Ольга25 (главбух), Геннадий2 (директор)','Ольга, Геннадий')\n",
    "\n",
    "df['name_user'] = df['name_user'].replace('Любовь \\nАнна ВасильевнаМ.Р','Любовь,Анна,')\n",
    "df['name_user'] = df['name_user'].replace('Анна9   (подруга Вики)','Анна')\n",
    "df['name_user'] = df['name_user'].replace('Анна9   (подруга Вики)','Анна')"
   ]
  },
  {
   "cell_type": "code",
   "execution_count": null,
   "id": "e29fe29c",
   "metadata": {},
   "outputs": [],
   "source": [
    "for row in df['name_user']:\n",
    "    if not pd.isna(row):\n",
    "        for i in range(len(row)):\n",
    "            if row[i] == '\\n' and row[i-1] != ',':\n",
    "                print(row + '\\n')\n",
    "            elif row[i] == ' ' and row[i-1] != ',':\n",
    "                print(row + '\\n')"
   ]
  },
  {
   "cell_type": "code",
   "execution_count": null,
   "id": "a9411451",
   "metadata": {},
   "outputs": [],
   "source": [
    "df['name_user']"
   ]
  },
  {
   "cell_type": "code",
   "execution_count": null,
   "id": "06833d0b",
   "metadata": {},
   "outputs": [],
   "source": [
    "row_l = []\n",
    "for row in df['name_user']:\n",
    "    if not pd.isna(row):\n",
    "        row_l.append(re.sub(r\"\\d+\", r'',row).strip())\n",
    "    else: \n",
    "        row_l.append(np.nan)\n",
    "df['name_user'] = row_l"
   ]
  },
  {
   "cell_type": "code",
   "execution_count": null,
   "id": "f209a604",
   "metadata": {
    "scrolled": false
   },
   "outputs": [],
   "source": [
    "# df['name_user'] = df['name_user'].replace('r\"\\d+\"','')\n",
    "df['name_user'] = df['name_user'].str.replace('(','', regex=True)\n",
    "df['name_user'] = df['name_user'].str.replace(')','', regex=True)\n",
    "df['name_user'] = df['name_user'].str.replace('\\n','', regex=True)\n",
    "df['name_user'] = df['name_user'].str.replace(',  ',',', regex=True)\n",
    "df['name_user'] = df['name_user'].str.replace(', ',',', regex=True)\n",
    "df['name_user'] = df['name_user'].str.replace('!',',', regex=True)"
   ]
  },
  {
   "cell_type": "code",
   "execution_count": null,
   "id": "c555f56a",
   "metadata": {},
   "outputs": [],
   "source": [
    "df['name_user']"
   ]
  },
  {
   "cell_type": "code",
   "execution_count": null,
   "id": "bc40c1da",
   "metadata": {},
   "outputs": [],
   "source": [
    "df[['name_1','name_2']] = df['name_user'].str.split(',',n=1,expand=True)\n",
    "df[['name_2','name_3']] = df['name_2'].str.split(',',n=1,expand=True)"
   ]
  },
  {
   "cell_type": "markdown",
   "id": "91c7545b",
   "metadata": {},
   "source": [
    "### Анализ по строке в которой больше 1 человека "
   ]
  },
  {
   "cell_type": "code",
   "execution_count": null,
   "id": "c4612b02",
   "metadata": {},
   "outputs": [],
   "source": [
    "df.loc[pd.isna(df['name_2']),'name_2'] = np.nan\n",
    "df.loc[pd.isna(df['name_3']),'name_3'] = np.nan"
   ]
  },
  {
   "cell_type": "code",
   "execution_count": null,
   "id": "555bbcda",
   "metadata": {},
   "outputs": [],
   "source": [
    "# df - просмотр с чем рабоем"
   ]
  },
  {
   "cell_type": "markdown",
   "id": "02f93b5c",
   "metadata": {},
   "source": [
    "Снала планировалось разделить строку имеющиего больше 1 имено на несколько строк, но было принято решение что это помешает при машинном обучение и создаться дубль, который задублирует результат"
   ]
  },
  {
   "cell_type": "markdown",
   "id": "cee418ec",
   "metadata": {},
   "source": [
    "# Выделение возраста детей"
   ]
  },
  {
   "cell_type": "code",
   "execution_count": null,
   "id": "66cc5ea4",
   "metadata": {},
   "outputs": [],
   "source": [
    "df['kids']"
   ]
  },
  {
   "cell_type": "code",
   "execution_count": null,
   "id": "5a31e37f",
   "metadata": {},
   "outputs": [],
   "source": [
    "f_ages = []\n",
    "flag = False\n",
    "for row in df['kids']:\n",
    "    ages = []\n",
    "    if not pd.isnull(row): # определяем пустоту\n",
    "        ch = ''\n",
    "        for char in str(row): # пробегаем буквы строки\n",
    "            # берем значения только внутри скобок\n",
    "            if char == '(':\n",
    "                flag = True\n",
    "                continue\n",
    "            elif char == ')':\n",
    "                flag = False\n",
    "                if ch != '' and not flag:\n",
    "                    ages.append(float(ch))\n",
    "                    ch = ''\n",
    "                continue\n",
    "            if flag:\n",
    "                if char == ',':\n",
    "                    ch += '.'\n",
    "                else:\n",
    "                    ch += char\n",
    "    if len(ages) == 0:\n",
    "        f_ages.append(np.nan)\n",
    "    else:\n",
    "        f_ages.append(ages)\n",
    "df['ages'] = f_ages"
   ]
  },
  {
   "cell_type": "code",
   "execution_count": null,
   "id": "14f94b84",
   "metadata": {},
   "outputs": [],
   "source": [
    "df['ages']"
   ]
  },
  {
   "cell_type": "markdown",
   "id": "3a434f17",
   "metadata": {},
   "source": [
    "### Средний возраст"
   ]
  },
  {
   "cell_type": "code",
   "execution_count": null,
   "id": "63b1ae60",
   "metadata": {},
   "outputs": [],
   "source": [
    "average_age = []\n",
    "for row in df['ages']:\n",
    "    if type(row) == type(list()): \n",
    "        average = float(round(sum(row) / len(row),2))\n",
    "        average_age.append(average)\n",
    "    else:\n",
    "        average_age.append(np.nan)\n",
    "df['avg_age'] = average_age\n",
    "# df - просмотр с чем рабоем"
   ]
  },
  {
   "cell_type": "markdown",
   "id": "57c9d3ac",
   "metadata": {},
   "source": [
    "### Переименование колонки "
   ]
  },
  {
   "cell_type": "raw",
   "id": "01373384",
   "metadata": {},
   "source": [
    "df.rename(columns={'call': 'call_'+year, 'note':'note_'+year, 'age':'age'+year},inplace=True)\n",
    "df"
   ]
  },
  {
   "cell_type": "markdown",
   "id": "17ad9c1c",
   "metadata": {},
   "source": [
    "df.to_excel('files_client/'+year+'.xlsx', index=False)"
   ]
  }
 ],
 "metadata": {
  "kernelspec": {
   "display_name": "Python 3 (ipykernel)",
   "language": "python",
   "name": "python3"
  },
  "language_info": {
   "codemirror_mode": {
    "name": "ipython",
    "version": 3
   },
   "file_extension": ".py",
   "mimetype": "text/x-python",
   "name": "python",
   "nbconvert_exporter": "python",
   "pygments_lexer": "ipython3",
   "version": "3.10.9"
  }
 },
 "nbformat": 4,
 "nbformat_minor": 5
}
